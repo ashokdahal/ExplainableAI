{
 "cells": [
  {
   "cell_type": "code",
   "execution_count": null,
   "metadata": {},
   "outputs": [],
   "source": [
    "import shap\n",
    "import tensorflow as tf\n",
    "tf.compat.v1.disable_v2_behavior()\n",
    "import geopandas as gpd\n",
    "import numpy as np\n",
    "import matplotlib.pyplot as plt"
   ]
  },
  {
   "cell_type": "code",
   "execution_count": null,
   "metadata": {},
   "outputs": [],
   "source": [
    "#prepare data\n",
    "df=gpd.read_file('Data/NepalEqUSGS.shp')\n",
    "constcols=['Est_m','Nrt_m','HC_m','VC_m','Slp_m','Prc_m','NDVI_m','PGV_Usgs']\n",
    "Xdata=df[constcols].to_numpy()\n",
    "Ydata=df.Landslide.to_numpy()\n",
    "max=Xdata.max(axis=0)\n",
    "min=Xdata.min(axis=0)\n",
    "norm_xdata=(Xdata-min)/(max-min)"
   ]
  },
  {
   "cell_type": "code",
   "execution_count": null,
   "metadata": {},
   "outputs": [],
   "source": [
    "model=tf.keras.models.load_model('USGS_Eq_Clf_model.h5')"
   ]
  },
  {
   "cell_type": "code",
   "execution_count": null,
   "metadata": {},
   "outputs": [],
   "source": [
    "explainer = shap.DeepExplainer(model, norm_xdata[np.random.choice(norm_xdata.shape[0], 100, replace=False)])\n",
    "\n",
    "shap_values = explainer.shap_values(np.array(norm_xdata,dtype=np.float32))"
   ]
  },
  {
   "cell_type": "code",
   "execution_count": null,
   "metadata": {},
   "outputs": [],
   "source": [
    "shap.summary_plot(shap_values[0], plot_type = 'violin', feature_names = constcols,show=False)\n",
    "plt.savefig('Exaiplots/overallimpactDistribution.pdf')"
   ]
  },
  {
   "cell_type": "code",
   "execution_count": null,
   "metadata": {},
   "outputs": [],
   "source": [
    "shap.initjs()\n",
    "shap.force_plot(0.5, shap_values[0][8], features = constcols,matplotlib=True,feature_names = constcols,show=False)\n",
    "plt.savefig('Exaiplots/singlePositiveExample.pdf')"
   ]
  },
  {
   "cell_type": "code",
   "execution_count": null,
   "metadata": {},
   "outputs": [],
   "source": [
    "shap.initjs()\n",
    "shap.force_plot(0.5, shap_values[0][10], features = constcols,matplotlib=True,feature_names = constcols,show=False)\n",
    "plt.savefig('Exaiplots/SingleNegativeExample.pdf')"
   ]
  },
  {
   "cell_type": "code",
   "execution_count": null,
   "metadata": {},
   "outputs": [],
   "source": [
    "shap.decision_plot(explainer.expected_value[0], shap_values[0], features = norm_xdata, feature_names = constcols,show=False,ignore_warnings=True)\n",
    "plt.savefig('Exaiplots/DecisionPlot_all.pdf')"
   ]
  },
  {
   "cell_type": "code",
   "execution_count": null,
   "metadata": {},
   "outputs": [],
   "source": [
    "import matplotlib.pyplot as plt\n",
    "shap.plots._waterfall.waterfall_legacy(explainer.expected_value[0], shap_values[0][10], feature_names = constcols)\n",
    "plt.savefig('Exaiplots/additiveNature_Negative.pdf')"
   ]
  },
  {
   "cell_type": "code",
   "execution_count": null,
   "metadata": {},
   "outputs": [],
   "source": [
    "import matplotlib.pyplot as plt\n",
    "shap.decision_plot(explainer.expected_value[0], shap_values[0][10], feature_names = constcols,show=False)\n",
    "plt.savefig('waterfall_chk.png',dpi=300)"
   ]
  },
  {
   "cell_type": "code",
   "execution_count": null,
   "metadata": {},
   "outputs": [],
   "source": [
    "for i in range(len(shap_values[0])):\n",
    "    shap.decision_plot(explainer.expected_value[0], shap_values[0][i], feature_names = constcols,show=False)\n",
    "    plt.savefig(f'/home/dahala/Documents/ashokdahal.github.io/plotapp/{str(i)}.png',dpi=300)\n",
    "    plt.tight_layout()\n",
    "    plt.clf()"
   ]
  },
  {
   "cell_type": "code",
   "execution_count": null,
   "metadata": {},
   "outputs": [],
   "source": [
    "shap.summary_plot(shap_values[0], norm_xdata,feature_names = constcols,show=False)\n",
    "plt.colorbar()\n",
    "plt.tight_layout()\n",
    "plt.savefig('Exaiplots/Norm_value_Impact_on_SHAP.pdf')\n"
   ]
  },
  {
   "cell_type": "code",
   "execution_count": null,
   "metadata": {},
   "outputs": [],
   "source": [
    "shap.group_difference_plot(shap_values[0],group_mask=Ydata.astype(bool),feature_names=constcols,show=False)\n",
    "plt.savefig('Exaiplots/Mean_SHAP_difference_between_landslide_noLandslide.pdf')"
   ]
  },
  {
   "cell_type": "code",
   "execution_count": null,
   "metadata": {},
   "outputs": [],
   "source": [
    "fig,axs=plt.subplots(2, 4, figsize=(16,8),sharex=False,sharey=False)\n",
    "i=0\n",
    "j=0\n",
    "for k in range(8):\n",
    "    plt.axes(axs[i,j])\n",
    "    shap.embedding_plot(k,shap_values[0],feature_names=constcols,show=False)\n",
    "    j+=1\n",
    "    if j==4:\n",
    "        i=1\n",
    "        j=0\n",
    "plt.tight_layout()"
   ]
  },
  {
   "cell_type": "code",
   "execution_count": null,
   "metadata": {},
   "outputs": [],
   "source": [
    "import matplotlib.pyplot as plt\n",
    "fig,axs=plt.subplots(2, 4, figsize=(16,8),sharex=True,sharey=True)\n",
    "df_sub=df[constcols]\n",
    "i=0\n",
    "j=0\n",
    "for col in range(8):\n",
    "    shap.dependence_plot((col), shap_values[0], norm_xdata,interaction_index=None,show=False,cmap='viridis',ax=axs[i,j],feature_names=constcols)\n",
    "    j+=1\n",
    "    if j ==4:\n",
    "        i=1\n",
    "        j=0\n",
    "    #axs[i,j].colorbar()\n",
    "plt.tight_layout()\n",
    "plt.savefig('Exaiplots/Variable_Influence_Distribution.pdf')"
   ]
  },
  {
   "cell_type": "code",
   "execution_count": null,
   "metadata": {},
   "outputs": [],
   "source": [
    "preds=model.predict(norm_xdata)"
   ]
  },
  {
   "cell_type": "code",
   "execution_count": null,
   "metadata": {},
   "outputs": [],
   "source": [
    "for i in range(len(df)):\n",
    "    df.loc[i, 'url'] = f\"https://raw.githubusercontent.com/ashokdahal/ashokdahal.github.io/master/plotapp/{i}.png\"\n",
    "    df.loc[i,'susceptibility']=preds[i][0]"
   ]
  },
  {
   "cell_type": "code",
   "execution_count": null,
   "metadata": {},
   "outputs": [],
   "source": [
    "df_web=df[['url','susceptibility','geometry']]"
   ]
  },
  {
   "cell_type": "code",
   "execution_count": null,
   "metadata": {},
   "outputs": [],
   "source": [
    "df_web.to_file('Exaiplots/WebappData.gpkg',driver='GPKG')"
   ]
  }
 ],
 "metadata": {
  "interpreter": {
   "hash": "14679ae43342e2a47e22d3886e652cc2ab43a7731511cea5a972777e21e97d2a"
  },
  "kernelspec": {
   "display_name": "Python 3 (ipykernel)",
   "language": "python",
   "name": "python3"
  },
  "language_info": {
   "codemirror_mode": {
    "name": "ipython",
    "version": 3
   },
   "file_extension": ".py",
   "mimetype": "text/x-python",
   "name": "python",
   "nbconvert_exporter": "python",
   "pygments_lexer": "ipython3",
   "version": "3.8.13"
  },
  "orig_nbformat": 4
 },
 "nbformat": 4,
 "nbformat_minor": 2
}
