{
 "cells": [
  {
   "cell_type": "code",
   "execution_count": null,
   "metadata": {},
   "outputs": [],
   "source": [
    "%load_ext autoreload\n",
    "import numpy as np\n",
    "import seaborn as sns\n",
    "import os\n",
    "from EQALS import ClassificationModelsimple\n",
    "import geopandas as gpd\n",
    "import tensorflow as tf\n",
    "import sklearn.metrics\n",
    "import matplotlib.pyplot as plt\n",
    "import seaborn as sns"
   ]
  },
  {
   "cell_type": "code",
   "execution_count": null,
   "metadata": {},
   "outputs": [],
   "source": [
    "clfmdl=ClassificationModelsimple.LandslideModel()\n",
    "clfmdl.getclassificationModel(in_num=8, out_num=1)\n",
    "clfmdl.model.load_weights('checkpointsUSGSv2/')"
   ]
  },
  {
   "cell_type": "code",
   "execution_count": null,
   "metadata": {},
   "outputs": [],
   "source": [
    "def trainmodel(model,xdata,ydata):\n",
    "    \n",
    "    NUMBER_EPOCHS = 200\n",
    "    filepath='checkpointsUSGSv2'\n",
    "    BATCH_SIZE=32\n",
    "    \n",
    "    model_checkpoint_callback=tf.keras.callbacks.ModelCheckpoint(\n",
    "        filepath,\n",
    "        monitor=\"val_auc\",\n",
    "        verbose=1,\n",
    "        save_best_only=True,\n",
    "        save_weights_only=False,\n",
    "        mode=\"max\",\n",
    "        save_freq=\"epoch\",\n",
    "        options=None\n",
    "    )\n",
    "    print(type(xdata),type(ydata))\n",
    "    hist = model.fit(x=xdata,\n",
    "                     y=ydata,\n",
    "                     epochs=NUMBER_EPOCHS,\n",
    "                     batch_size=BATCH_SIZE,\n",
    "                    #  validation_split=0.2,#auto validate using 20% of random samples at each epoch\n",
    "                     verbose=1,class_weight = {0: 1, 1: 5}\n",
    "\n",
    "                    )\n",
    "    return hist\n"
   ]
  },
  {
   "cell_type": "code",
   "execution_count": null,
   "metadata": {},
   "outputs": [],
   "source": [
    "#Spatial cross validation\n",
    "#load data\n",
    "df=gpd.read_file('Data/USGS/NepalEqUSGSSpval.shp')\n",
    "constcols=['Est_m','Nrt_m','HC_m','VC_m','Slp_m','Prc_m','NDVI_m','PGV_Usgs']\n",
    "Xdata=df[constcols].to_numpy()\n",
    "Ydata=df.Landslide.to_numpy()\n",
    "max=Xdata.max(axis=0)\n",
    "min=Xdata.min(axis=0)\n",
    "norm_xdata=(Xdata-min)/(max-min)\n",
    "def spatialCrossVal():\n",
    "    for i in range(1,11):\n",
    "        print(i)\n",
    "        clfmdl=ClassificationModelsimple.LandslideModel()\n",
    "        clfmdl.getclassificationModel(in_num=8, out_num=1)\n",
    "        clfmdl.getOptimizer()\n",
    "        clfmdl.compileModel()\n",
    "        train_index=df.index[df['id']!=i].tolist()\n",
    "        test_index=df.index[df['id']==i].tolist()\n",
    "        print(f\"Number of train set{len(train_index)}\")\n",
    "        X_train=norm_xdata[train_index]\n",
    "        y_train=Ydata[train_index]\n",
    "        X_test=norm_xdata[test_index]\n",
    "        y_test=Ydata[test_index]\n",
    "        trainmodel(clfmdl.model,np.array(X_train,dtype=np.float32),np.expand_dims(np.array(y_train,dtype=np.float32),axis=-1))\n",
    "        preds=clfmdl.model.predict(X_test)\n",
    "        np.save(f'crossval_results/SpPredsv2{str(i)}.npy',preds)\n",
    "        np.save(f'crossval_results/SpTruthsv2{str(i)}.npy',y_test)\n",
    "        del clfmdl\n",
    "        i+=1"
   ]
  },
  {
   "cell_type": "code",
   "execution_count": null,
   "metadata": {},
   "outputs": [],
   "source": [
    "spatialCrossVal()"
   ]
  },
  {
   "cell_type": "code",
   "execution_count": null,
   "metadata": {},
   "outputs": [],
   "source": [
    "from sklearn.model_selection import KFold\n",
    "df=gpd.read_file('Data/USGS/NepalEqUSGS.shp')\n",
    "constcols=['Est_m','Nrt_m','HC_m','VC_m','Slp_m','Prc_m','NDVI_m','PGV_Usgs']\n",
    "Xdata=df[constcols].to_numpy()\n",
    "Ydata=df.Landslide.to_numpy()\n",
    "max=Xdata.max(axis=0)\n",
    "min=Xdata.min(axis=0)\n",
    "norm_xdata=(Xdata-min)/(max-min)\n",
    "rcl_indexes=[]\n",
    "def randomCrossVal():\n",
    "    kf = KFold(n_splits=10,random_state=42,shuffle=True)\n",
    "    kf.get_n_splits(norm_xdata)\n",
    "    i=0\n",
    "    for train_index, test_index in kf.split(norm_xdata):\n",
    "        # rcl_indexes.append(test_index)\n",
    "        print(i)\n",
    "        clfmdl=ClassificationModelsimple.LandslideModel()\n",
    "        clfmdl.getclassificationModel(in_num=8, out_num=1)\n",
    "        clfmdl.getOptimizer()\n",
    "        clfmdl.compileModel()\n",
    "        X_train=norm_xdata[train_index]\n",
    "        y_train=Ydata[train_index]\n",
    "        X_test=norm_xdata[test_index]\n",
    "        y_test=Ydata[test_index]\n",
    "        trainmodel(clfmdl.model,np.array(norm_xdata,dtype=np.float32),np.expand_dims(np.array(Ydata,dtype=np.float32),axis=-1))\n",
    "        # preds=clfmdl.model.predict(X_test)\n",
    "        np.save(f'crossval_results_Truths{str(i)}.npy',y_test)\n",
    "        preds=clfmdl.model.predict(norm_xdata)\n",
    "        break\n",
    "        i+=1\n",
    "        \n",
    "    return Ydata,preds\n",
    "        # del clfmdl\n",
    "        \n",
    "\n"
   ]
  },
  {
   "cell_type": "code",
   "execution_count": null,
   "metadata": {},
   "outputs": [],
   "source": [
    "Ydata,preds=randomCrossVal()"
   ]
  },
  {
   "cell_type": "code",
   "execution_count": null,
   "metadata": {},
   "outputs": [],
   "source": [
    "#predict and save\n",
    "#prepare data\n",
    "import shap\n",
    "import tensorflow as tf\n",
    "import geopandas as gpd\n",
    "import numpy as np\n",
    "df=gpd.read_file('Data/AllDataV2.gpkg')\n",
    "constcols=['Est_m','Nrt_m','HC_m','VC_m','Slp_m','Prc_m','pgvhz_f_0_5']\n",
    "Xdata=df[constcols].to_numpy()\n",
    "Ydata=df.Landslide.to_numpy()\n",
    "max=Xdata.max(axis=0)\n",
    "min=Xdata.min(axis=0)\n",
    "norm_xdata=(Xdata-min)/(max-min)\n",
    "model=tf.keras.models.load_model('checkpoints')\n",
    "preds=model.predict(norm_xdata)"
   ]
  },
  {
   "cell_type": "code",
   "execution_count": null,
   "metadata": {},
   "outputs": [],
   "source": [
    "sklearn.metrics.auc(fpr,tpr)"
   ]
  },
  {
   "cell_type": "code",
   "execution_count": null,
   "metadata": {},
   "outputs": [],
   "source": [
    "import sklearn.metrics\n",
    "import matplotlib.pyplot as plt\n",
    "import seaborn as sns\n",
    "fpr,tpr,thresholds=sklearn.metrics.roc_curve(Ydata, preds)\n",
    "from matplotlib.pyplot import figure\n",
    "\n",
    "figure(figsize=(4, 4), dpi=500)\n",
    "\n",
    "lw = 2\n",
    "plt.plot(\n",
    "    fpr,\n",
    "    tpr,\n",
    "    color=\"darkorange\",\n",
    "    lw=lw,\n",
    "    label=\"ROC curve (area = %0.2f)\" % 0.8577,\n",
    ")\n",
    "ax=plt.plot([0, 1], [0, 1], color=\"navy\", lw=lw, linestyle=\"--\")\n",
    "plt.xlim([0.0, 1.0])\n",
    "plt.ylim([0.0, 1.0])\n",
    "plt.xlabel(\"False Positive Rate\")\n",
    "plt.ylabel(\"True Positive Rate\")\n",
    "plt.title(\"ROC Curve Landslide Classification\")\n",
    "plt.text(0.38, 0.11,\"Accuracy=0.8131\")\n",
    "plt.legend(loc=\"lower right\")\n",
    "plt.axis('square')\n",
    "\n",
    "plt.savefig('Exaiplots/roc.pdf')\n",
    "plt.show()\n"
   ]
  },
  {
   "cell_type": "code",
   "execution_count": null,
   "metadata": {},
   "outputs": [],
   "source": [
    "#plot \n",
    "import sklearn.metrics\n",
    "import matplotlib.pyplot as plt\n",
    "import seaborn as sns\n",
    "from matplotlib.pyplot import figure\n",
    "import numpy as np \n",
    "figure(figsize=(4, 4), dpi=100)\n",
    "Aucs=[]\n",
    "for i in range(1,11):\n",
    "    preds=np.load(f'crossval_results/SpPredsv2{str(i)}.npy')\n",
    "    truths=np.load(f'crossval_results/SpTruthsv2{str(i)}.npy')\n",
    "    fpr,tpr,thresholds=sklearn.metrics.roc_curve(truths.flatten(), preds.flatten())\n",
    "    plt.plot(\n",
    "        fpr,\n",
    "        tpr,\n",
    "        # color=\"darkorange\",\n",
    "        lw=0.5,\n",
    "        label=f\"ValArea{str(i)}\",\n",
    "    )\n",
    "    Aucs.append(sklearn.metrics.auc(fpr,tpr))\n",
    "\n",
    "ax=plt.plot([0, 1], [0, 1], color=\"navy\", lw=1, linestyle=\"--\")\n",
    "plt.xlim([0.0, 1.0])\n",
    "plt.ylim([0.0, 1.0])\n",
    "plt.xlabel(\"False Positive Rate\")\n",
    "plt.ylabel(\"True Positive Rate\")\n",
    "plt.title(\"ROC Curve Spatial Crossvalidation\")\n",
    "# plt.text(0.38, 0.11,\"Accuracy=0.8131\")\n",
    "# plt.legend(loc=\"lower right\")\n",
    "plt.axis('square')\n",
    "plt.tight_layout()\n",
    "plt.savefig('Exaiplots/rocSpVal.pdf')\n",
    "plt.show()\n"
   ]
  },
  {
   "cell_type": "code",
   "execution_count": null,
   "metadata": {},
   "outputs": [],
   "source": [
    "#plot \n",
    "import sklearn.metrics\n",
    "import matplotlib.pyplot as plt\n",
    "import seaborn as sns\n",
    "from matplotlib.pyplot import figure\n",
    "import numpy as np \n",
    "figure(figsize=(4, 4), dpi=100)\n",
    "Aucs2=[]\n",
    "for i in range(0,10):\n",
    "    preds=np.load(f'crossval_results/crossval_results_Preds{str(i)}.npy')\n",
    "    truths=np.load(f'crossval_results/crossval_results_Truths{str(i)}.npy')\n",
    "    fpr,tpr,thresholds=sklearn.metrics.roc_curve(truths.flatten(), preds.flatten())\n",
    "    plt.plot(\n",
    "        fpr,\n",
    "        tpr,\n",
    "        # color=\"darkorange\",\n",
    "        lw=0.5,\n",
    "        label=f\"RandomArea{str(i+1)}\",\n",
    "    )\n",
    "    Aucs2.append(sklearn.metrics.auc(fpr,tpr))\n",
    "\n",
    "ax=plt.plot([0, 1], [0, 1], color=\"navy\", lw=1, linestyle=\"--\")\n",
    "plt.xlim([0.0, 1.0])\n",
    "plt.ylim([0.0, 1.0])\n",
    "plt.xlabel(\"False Positive Rate\")\n",
    "plt.ylabel(\"True Positive Rate\")\n",
    "plt.title(\"ROC Curve Random Crossvalidation\")\n",
    "# plt.text(0.38, 0.11,\"Accuracy=0.8131\")\n",
    "# plt.legend(loc=\"lower right\")\n",
    "plt.axis('square')\n",
    "plt.tight_layout()\n",
    "plt.savefig('Exaiplots/rocrandVal.pdf')\n",
    "plt.show()\n"
   ]
  },
  {
   "cell_type": "code",
   "execution_count": null,
   "metadata": {},
   "outputs": [],
   "source": [
    "sns.set_theme()\n",
    "sns.boxplot(Aucs2,color='azure')\n",
    "plt.xlim(0.5,1)\n",
    "plt.savefig('Exaiplots/violin_randomval.pdf')\n"
   ]
  },
  {
   "cell_type": "code",
   "execution_count": null,
   "metadata": {},
   "outputs": [],
   "source": [
    "sns.boxplot(Aucs,color='aliceblue')\n",
    "plt.xlim(0.5,1)\n",
    "plt.savefig('Exaiplots/violin_spval.pdf')"
   ]
  },
  {
   "cell_type": "code",
   "execution_count": null,
   "metadata": {},
   "outputs": [],
   "source": [
    "# plot all confusion maps\n"
   ]
  },
  {
   "cell_type": "code",
   "execution_count": null,
   "metadata": {},
   "outputs": [],
   "source": [
    "#plot \n",
    "import sklearn.metrics\n",
    "import matplotlib.pyplot as plt\n",
    "import seaborn as sns\n",
    "from matplotlib.pyplot import figure\n",
    "import numpy as np \n",
    "df=gpd.read_file('Data/USGS/NepalEqUSGS.shp')\n",
    "for i in range(0,10):\n",
    "    print(i)\n",
    "    preds=np.load(f'crossval_results/crossval_results_Preds{str(i)}.npy')\n",
    "    truths=np.load(f'crossval_results/crossval_results_Truths{str(i)}.npy')\n",
    "\n",
    "    #confusion  map\n",
    "    confusiondata=np.empty(truths.shape,dtype=object)\n",
    "    confusiondata[np.bitwise_and(truths.flatten()==1,np.rint(preds.flatten())==1)]='False Positive'\n",
    "    confusiondata[np.bitwise_and(truths.flatten()==0,np.rint(preds.flatten())==1)]='True Positive'\n",
    "    confusiondata[np.bitwise_and(truths.flatten()==1,np.rint(preds.flatten())==0)]='False Negative'\n",
    "    confusiondata[np.bitwise_and(truths.flatten()==0,np.rint(preds.flatten())==0)]='True Negative'\n",
    "    sel_idx=rcl_indexes[i].tolist()\n",
    "    df.loc[sel_idx,'rcl_confusion']=confusiondata\n",
    "df_rc=df"
   ]
  },
  {
   "cell_type": "code",
   "execution_count": null,
   "metadata": {},
   "outputs": [],
   "source": [
    "df=gpd.read_file('Data/USGS/NepalEqUSGSSpval.shp')\n",
    "for i in range(1,11):\n",
    "    preds=np.load(f'crossval_results/SpPredsv2{str(i)}.npy')\n",
    "    truths=np.load(f'crossval_results/SpTruthsv2{str(i)}.npy')\n",
    "    print(i)\n",
    "    #confusion  map\n",
    "    confusiondata=np.empty(truths.shape,dtype=object)\n",
    "    confusiondata[np.bitwise_and(truths.flatten()==1,np.rint(preds.flatten())==1)]='False Positive'\n",
    "    confusiondata[np.bitwise_and(truths.flatten()==0,np.rint(preds.flatten())==1)]='True Positive'\n",
    "    confusiondata[np.bitwise_and(truths.flatten()==1,np.rint(preds.flatten())==0)]='False Negative'\n",
    "    confusiondata[np.bitwise_and(truths.flatten()==0,np.rint(preds.flatten())==0)]='True Negative'\n",
    "    sel_idx=df.index[df['id']==i].tolist()\n",
    "    df.loc[sel_idx,'scl_confusion']=confusiondata\n",
    "df_sc=df"
   ]
  },
  {
   "cell_type": "code",
   "execution_count": null,
   "metadata": {},
   "outputs": [],
   "source": [
    "import contextily as cx\n",
    "df_wm = df_sc.to_crs(epsg=3857)\n",
    "ax=df_wm.plot(column='scl_confusion',legend=False,figsize=(10, 10), alpha=0.7)\n",
    "cx.add_basemap(ax,source=cx.providers.Esri.WorldShadedRelief)"
   ]
  },
  {
   "cell_type": "code",
   "execution_count": null,
   "metadata": {},
   "outputs": [],
   "source": [
    "ax.get_figure().savefig('Exaiplots/confusionmap_scv.pdf',dpi=500,facecolor=ax.get_facecolor())"
   ]
  },
  {
   "cell_type": "code",
   "execution_count": null,
   "metadata": {},
   "outputs": [],
   "source": [
    "import contextily as cx\n",
    "df_wm = df.to_crs(epsg=3857)\n",
    "ax=df_wm.plot(column='confusion',legend=True,figsize=(10, 10), alpha=0.7)\n",
    "cx.add_basemap(ax,source=cx.providers.Esri.WorldShadedRelief)"
   ]
  },
  {
   "cell_type": "code",
   "execution_count": null,
   "metadata": {},
   "outputs": [],
   "source": [
    "ax.get_figure().savefig('Exaiplots/confusionmap_rcv.pdf',dpi=500,facecolor=ax.get_facecolor())"
   ]
  },
  {
   "cell_type": "code",
   "execution_count": null,
   "metadata": {},
   "outputs": [],
   "source": [
    "ax=df_rc.rcl_confusion.value_counts().plot(kind='barh',logx=True,xlim=(10,1e4))\n",
    "ax.get_figure().savefig('Exaiplots/barplot_rcv.pdf',dpi=500,facecolor=ax.get_facecolor())"
   ]
  },
  {
   "cell_type": "code",
   "execution_count": null,
   "metadata": {},
   "outputs": [],
   "source": [
    "ax=df_sc.scl_confusion.value_counts().plot(kind='barh',logx=True,xlim=(10,1e4))\n",
    "ax.get_figure().savefig('Exaiplots/barplot_scv.pdf',dpi=500,facecolor=ax.get_facecolor())"
   ]
  },
  {
   "cell_type": "code",
   "execution_count": null,
   "metadata": {},
   "outputs": [],
   "source": [
    "ax=df.confusion.value_counts().plot(kind='barh',logx=True,xlim=(10,1e4))\n",
    "ax.get_figure().savefig('Exaiplots/barplot_best.pdf',dpi=500,facecolor=ax.get_facecolor())"
   ]
  },
  {
   "cell_type": "code",
   "execution_count": null,
   "metadata": {},
   "outputs": [],
   "source": []
  }
 ],
 "metadata": {
  "interpreter": {
   "hash": "14679ae43342e2a47e22d3886e652cc2ab43a7731511cea5a972777e21e97d2a"
  },
  "kernelspec": {
   "display_name": "Python 3 (ipykernel)",
   "language": "python",
   "name": "python3"
  },
  "language_info": {
   "codemirror_mode": {
    "name": "ipython",
    "version": 3
   },
   "file_extension": ".py",
   "mimetype": "text/x-python",
   "name": "python",
   "nbconvert_exporter": "python",
   "pygments_lexer": "ipython3",
   "version": "3.8.13"
  },
  "orig_nbformat": 4
 },
 "nbformat": 4,
 "nbformat_minor": 2
}
